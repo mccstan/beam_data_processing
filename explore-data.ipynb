{
 "cells": [
  {
   "cell_type": "code",
   "execution_count": 23,
   "metadata": {
    "collapsed": true,
    "pycharm": {
     "name": "#%%\n"
    }
   },
   "outputs": [
    {
     "name": "stdout",
     "output_type": "stream",
     "text": [
      "[{'id': 9, 'title': 'Gold nanoparticles synthesized from Euphorbia fischeriana root by green route method alleviates the isoprenaline hydrochloride induced myocardial infarction in rats.', 'date': '01/01/2020', 'journal': 'Journal of photochemistry and photobiology. B, Biology'}, {'id': 10, 'title': 'Clinical implications of umbilical artery Doppler changes after betamethasone administration', 'date': '01/01/2020', 'journal': 'The journal of maternal-fetal & neonatal medicine'}, {'id': '11', 'title': 'Effects of Topical Application of Betamethasone on Imiquimod-induced Psoriasis-like Skin Inflammation in Mice.', 'date': '01/01/2020', 'journal': 'Journal of back and musculoskeletal rehabilitation'}, {'id': '12', 'title': 'Comparison of pressure release, phonophoresis and dry needling in treatment of latent myofascial trigger point of upper trapezius muscle.', 'date': '01/03/2020', 'journal': 'Journal of back and musculoskeletal rehabilitation'}, {'id': '', 'title': 'Comparison of pressure BETAMETHASONE release, phonophoresis and dry needling in treatment of latent myofascial trigger point of upper trapezius ATROPINE muscle.', 'date': '01/03/2020', 'journal': 'The journal of maternal-fetal & neonatal medicine'}]\n"
     ]
    }
   ],
   "source": [
    "import json\n",
    "import rapidjson\n",
    "import re\n",
    "\n",
    "pubmed_json_path = './data/raw/pubmed.json'\n",
    "RE_TRAILING_COMMA = re.compile(r',(?=\\s*?[\\}\\]])')\n",
    "\n",
    "with open(pubmed_json_path, \"r\") as file:\n",
    "    content = file.read()\n",
    "    fixed_json = RE_TRAILING_COMMA.sub('', content)\n",
    "    json_data = json.loads(fixed_json)\n",
    "    print(json_data)\n"
   ]
  }
 ],
 "metadata": {
  "kernelspec": {
   "display_name": "Python 3",
   "language": "python",
   "name": "python3"
  },
  "language_info": {
   "codemirror_mode": {
    "name": "ipython",
    "version": 2
   },
   "file_extension": ".py",
   "mimetype": "text/x-python",
   "name": "python",
   "nbconvert_exporter": "python",
   "pygments_lexer": "ipython2",
   "version": "2.7.6"
  }
 },
 "nbformat": 4,
 "nbformat_minor": 0
}